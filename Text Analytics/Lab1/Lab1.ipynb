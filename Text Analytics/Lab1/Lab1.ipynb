{
 "cells": [
  {
   "cell_type": "raw",
   "id": "5d61325c-4649-4cc2-be71-bb43d871aa75",
   "metadata": {},
   "source": [
    "Working with Text Data\n",
    "#reading the content of the text file (sample.txt)"
   ]
  },
  {
   "cell_type": "code",
   "execution_count": 32,
   "id": "1c192ae5-ed06-44ac-937f-c937d7b92cc4",
   "metadata": {},
   "outputs": [
    {
     "name": "stdout",
     "output_type": "stream",
     "text": [
      "Raw Text:\n",
      " Hello, this is a sample text file.\n",
      "This is the second line.\n"
     ]
    }
   ],
   "source": [
    "#reading the content of the text file (sample.txt)\n",
    "with open('sample.txt', 'r', encoding='utf-8') as file:\n",
    "    text_data=file.read()\n",
    "print(\"Raw Text:\\n\", text_data)\n",
    "\n",
    "#store in another file (sample2.txt)\n",
    "with open('stored_sample.txt', 'w', encoding='utf-8')as file:\n",
    "    file.write(text_data)"
   ]
  },
  {
   "cell_type": "raw",
   "id": "f036931b-43d7-4b75-8b41-37ab25fcf298",
   "metadata": {},
   "source": [
    "Working with Structured Text Data"
   ]
  },
  {
   "cell_type": "code",
   "execution_count": 33,
   "id": "088a1fa7-139e-4afe-92b6-55207d461f4a",
   "metadata": {},
   "outputs": [
    {
     "name": "stdout",
     "output_type": "stream",
     "text": [
      "Reviews:\n",
      " 0    The product is amazing!\n",
      "1     Worst experience ever!\n",
      "Name: Review, dtype: object\n"
     ]
    }
   ],
   "source": [
    "#CSV file (reviews.csv)\n",
    "import pandas as pd\n",
    "\n",
    "#Read the CSV file\n",
    "df=pd.read_csv('reviews.csv')\n",
    "print(\"Reviews:\\n\", df['Review'].head())\n",
    "\n",
    "#Save the reviews column to a text file\n",
    "df['Review'].to_csv('stored_reviews.txt', index=False, header=False)"
   ]
  },
  {
   "cell_type": "code",
   "execution_count": 34,
   "id": "d975ed08-a9fa-4e9f-b40b-8ac6055ff97e",
   "metadata": {},
   "outputs": [
    {
     "name": "stdout",
     "output_type": "stream",
     "text": [
      "First two rows:\n",
      "    ID                   Review\n",
      "0   1  The product is amazing!\n",
      "1   2   Worst experience ever!\n"
     ]
    }
   ],
   "source": [
    "#Excel Files\n",
    "\n",
    "df_excel = pd.read_excel('reviews.xlsx', engine='openpyxl')\n",
    "print(\"First two rows:\\n\", df_excel.head(2))\n",
    "\n",
    "#save the first two rows to a test file\n",
    "df_excel.head(2).to_csv('extracted_excel.txt',index=False)"
   ]
  },
  {
   "cell_type": "code",
   "execution_count": 41,
   "id": "dd3810eb-7729-4ad4-a3ce-ac5ee1ef700c",
   "metadata": {},
   "outputs": [
    {
     "name": "stdout",
     "output_type": "stream",
     "text": [
      "Extracted City: New York\n"
     ]
    }
   ],
   "source": [
    "#JSON Files\n",
    "\n",
    "import json\n",
    "\n",
    "#read the json file\n",
    "with open('social_data.json','r', encoding='utf-8') as file:\n",
    "    data=json.load(file)\n",
    "print(\"Extracted City:\", data['city'])\n",
    "\n",
    "#store the extracted city to a file\n",
    "with open('stored_city.txt', 'w', encoding='utf-8')as file:\n",
    "    file.write(data['city'])"
   ]
  },
  {
   "cell_type": "markdown",
   "id": "58c9c582-80bf-4ab9-a3b2-97a0913335ca",
   "metadata": {},
   "source": [
    "Working with Semi-Structured Data"
   ]
  },
  {
   "cell_type": "code",
   "execution_count": 49,
   "id": "035519f5-f656-4953-a5cd-a27fc5d4f42e",
   "metadata": {},
   "outputs": [
    {
     "name": "stdout",
     "output_type": "stream",
     "text": [
      "Extracted Title: AI is transforming industries\n"
     ]
    }
   ],
   "source": [
    "#xml file\n",
    "\n",
    "import xml.etree.ElementTree as ET\n",
    "\n",
    "#parse the xml file\n",
    "tree = ET.parse('news.xml')\n",
    "root = tree.getroot()\n",
    "\n",
    "for article in root.findall('article'):\n",
    "    title = article.find('title').text\n",
    "    print(\"Extracted Title:\", title)\n",
    "\n",
    "#store the extracted title to a file\n",
    "with open('stored_titles.txt', 'w', encoding='utf-8') as file:\n",
    "    for article in root.findall('article'):\n",
    "        title = article.find('title').text\n",
    "        file.write(title + '\\n')"
   ]
  },
  {
   "cell_type": "raw",
   "id": "0b5da86e-4154-46ca-9215-24cdf1eb98c6",
   "metadata": {},
   "source": [
    "Working with PDF Documents"
   ]
  },
  {
   "cell_type": "code",
   "execution_count": 57,
   "id": "9820e0a8-9a28-48b0-95d1-aabc0889f6db",
   "metadata": {},
   "outputs": [
    {
     "name": "stdout",
     "output_type": "stream",
     "text": [
      "Extracted PDF text:\n",
      " This is a sample PDF document.  \n",
      "AI is transforming industries and automation.  \n"
     ]
    }
   ],
   "source": [
    "import PyPDF2\n",
    "\n",
    "#read the pdf file\n",
    "with open('document.pdf', 'rb')as file:\n",
    "    reader = PyPDF2.PdfReader(file)\n",
    "    text = \"\\n\".join(page.extract_text() for page in reader.pages if page.extract_text())\n",
    "\n",
    "#print the extracted text\n",
    "print(\"Extracted PDF text:\\n\", text)\n",
    "\n",
    "#store the extracted text in a file\n",
    "with open('stored_pdf_text.txt', 'w', encoding='utf-8')as output:\n",
    "    output.write(text)"
   ]
  },
  {
   "cell_type": "raw",
   "id": "62bb80d7-2e91-4ad9-8c3c-954753569bf1",
   "metadata": {},
   "source": [
    "Exercise 1\n",
    "Extract text from all pages of Business_Proposal.pdf and save it in\n",
    "business_proposal_all.txt."
   ]
  },
  {
   "cell_type": "code",
   "execution_count": 65,
   "id": "763aad5f-890e-4a8a-8a31-5209f8863a5f",
   "metadata": {},
   "outputs": [
    {
     "name": "stdout",
     "output_type": "stream",
     "text": [
      "Extracted PDF Text:\n",
      " Business Proposal  \n",
      "The Revolution is Coming  \n",
      "Leverage agile frameworks to provide a robust synopsis for high level  \n",
      "overviews. Iterative approaches to corporate strategy foster collaborative  \n",
      "thinking to further the overall value proposition. Organically grow the  \n",
      "holistic world view of disruptive innovation via workplace diversity and  \n",
      "empowerment.  \n",
      "Bring to the table win -win survival strategies to ensure proactive  \n",
      "domination. At the end of the day, going forward, a new normal that has  \n",
      "evolved from generation X is on the runway heading towards a streamlined  \n",
      "cloud solution. User generated content in real -time will have multi ple \n",
      "touchpoints for offshoring.  \n",
      "Capitalize on low hanging fruit to identify a ballpark value added activity to  \n",
      "beta test. Override the digital divide with additional clickthroughs from  \n",
      "DevOps. Nanotechnology immersion along the information highway will  \n",
      "close the loop on focusing solely on the bottom line.  \n",
      "Podcasting operational change management inside of workflows to  \n",
      "establish a framework. Taking seamless key performance indicators offline  \n",
      "to maximise the long tail. Keeping your eye on the ball while perfo rming a  \n",
      "deep dive on the start -up mentality to derive convergence on crossplatform  \n",
      "integration.  \n",
      "Collaboratively administrate empowered markets via plug -and-play \n",
      "networks. Dynamically procrastinate B2C users after installed base  \n",
      "benefits. Dramatically visua lize customer directed convergence without  \n",
      "revolutionary ROI.  \n",
      "Efficiently unleash cross -media information without cross -media value.  \n",
      "Quickly maximize timely deliverables for real -time schemas. Dramatically  \n",
      "maintain clicks -and-mortar solutions without funct ional solutio ns. \n",
      "  \n",
      "AUTHORS:  \n",
      "Amy Baker, Finance Chair, x345, abaker@ourcompany.com  \n",
      "Chris Donaldson, Accounting Dir., x621, cdonaldson@ourcompany.com  \n",
      "Erin Freeman, Sr. VP, x879, efreeman@ourcompany.com  \n"
     ]
    }
   ],
   "source": [
    "import PyPDF2\n",
    "# Read the PDF file\n",
    "with open('Business_Proposal.pdf', 'rb') as file:\n",
    "    reader = PyPDF2.PdfReader(file)\n",
    "    text = \"\\n\".join(page.extract_text() for page in reader.pages if page.extract_text())\n",
    "# Print the extracted text\n",
    "print(\"Extracted PDF Text:\\n\", text)\n",
    "# Store the extracted text in a file\n",
    "with open('business_proposal_all.txt', 'w', encoding='utf-8') as output:\n",
    "    output.write(text)"
   ]
  },
  {
   "cell_type": "raw",
   "id": "6ef8c99f-7541-4a3a-8d14-9c93f9594330",
   "metadata": {},
   "source": [
    "Extract text from only page 2 of Business_Proposal.pdf and save it in\n",
    "business_proposal_page_2.txt."
   ]
  },
  {
   "cell_type": "code",
   "execution_count": 67,
   "id": "0b30677a-e3c8-417d-b8d4-8b5cf81248a8",
   "metadata": {},
   "outputs": [
    {
     "name": "stdout",
     "output_type": "stream",
     "text": [
      "Extracted PDF Text:\n",
      " AUTHORS:  \n",
      "Amy Baker, Finance Chair, x345, abaker@ourcompany.com  \n",
      "Chris Donaldson, Accounting Dir., x621, cdonaldson@ourcompany.com  \n",
      "Erin Freeman, Sr. VP, x879, efreeman@ourcompany.com  \n"
     ]
    }
   ],
   "source": [
    "import PyPDF2\n",
    "# Read the PDF file\n",
    "with open('Business_Proposal.pdf', 'rb') as file:\n",
    "    reader = PyPDF2.PdfReader(file)\n",
    "    text = reader.pages[1].extract_text()\n",
    "# Print the extracted text\n",
    "print(\"Extracted PDF Text:\\n\", text)\n",
    "# Store the extracted text in a file\n",
    "with open('business_proposal_page_2.txt', 'w', encoding='utf-8') as output:\n",
    "    output.write(text)"
   ]
  },
  {
   "cell_type": "code",
   "execution_count": null,
   "id": "97d21fd8-33eb-407a-ae88-381d4876969c",
   "metadata": {},
   "outputs": [],
   "source": []
  }
 ],
 "metadata": {
  "kernelspec": {
   "display_name": "Python [conda env:base] *",
   "language": "python",
   "name": "conda-base-py"
  },
  "language_info": {
   "codemirror_mode": {
    "name": "ipython",
    "version": 3
   },
   "file_extension": ".py",
   "mimetype": "text/x-python",
   "name": "python",
   "nbconvert_exporter": "python",
   "pygments_lexer": "ipython3",
   "version": "3.12.7"
  }
 },
 "nbformat": 4,
 "nbformat_minor": 5
}
