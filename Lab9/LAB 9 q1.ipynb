{
 "cells": [
  {
   "cell_type": "code",
   "execution_count": null,
   "id": "56be71c2-6756-4457-bb2c-29dda99465b4",
   "metadata": {},
   "outputs": [],
   "source": [
    "EX1 – BASIC LDA WITH SHORT DOCUMENTS\n"
   ]
  },
  {
   "cell_type": "code",
   "execution_count": 1,
   "id": "c4b364fd-bf58-45c8-9b20-4144fbcc9ba1",
   "metadata": {},
   "outputs": [
    {
     "name": "stderr",
     "output_type": "stream",
     "text": [
      "[nltk_data] Downloading package punkt to\n",
      "[nltk_data]     C:\\Users\\User\\AppData\\Roaming\\nltk_data...\n",
      "[nltk_data]   Package punkt is already up-to-date!\n",
      "[nltk_data] Downloading package stopwords to\n",
      "[nltk_data]     C:\\Users\\User\\AppData\\Roaming\\nltk_data...\n",
      "[nltk_data]   Package stopwords is already up-to-date!\n",
      "[nltk_data] Downloading package wordnet to\n",
      "[nltk_data]     C:\\Users\\User\\AppData\\Roaming\\nltk_data...\n",
      "[nltk_data]   Package wordnet is already up-to-date!\n"
     ]
    },
    {
     "data": {
      "text/plain": [
       "True"
      ]
     },
     "execution_count": 1,
     "metadata": {},
     "output_type": "execute_result"
    }
   ],
   "source": [
    "from gensim import corpora, models\n",
    "from nltk.tokenize import word_tokenize\n",
    "from nltk.corpus import stopwords\n",
    "from nltk.stem import WordNetLemmatizer\n",
    "import nltk\n",
    "\n",
    "nltk.download('punkt')\n",
    "nltk.download('stopwords')\n",
    "nltk.download('wordnet')\n"
   ]
  },
  {
   "cell_type": "code",
   "execution_count": 2,
   "id": "d60b5284-ae95-426a-8fd6-c825f931f07e",
   "metadata": {},
   "outputs": [],
   "source": [
    "documents = [\n",
    "    \"Rafael Nadal Joins Roger Federer in Missing U.S. Open\",\n",
    "    \"Rafael Nadal Is Out of the Australian Open\",\n",
    "    \"Biden Announces Virus Measures\",\n",
    "    \"Biden's Virus Plans Meet Reality\",\n",
    "    \"Where Biden's Virus Plan Stands\"\n",
    "]\n"
   ]
  },
  {
   "cell_type": "code",
   "execution_count": 3,
   "id": "476a71b9-c622-46fc-ae88-87061fe13a37",
   "metadata": {},
   "outputs": [],
   "source": [
    "stop_words = set(stopwords.words('english'))\n",
    "lemmatizer = WordNetLemmatizer()\n",
    "\n",
    "def preprocess(doc):\n",
    "    tokens = word_tokenize(doc.lower())\n",
    "    tokens = [t for t in tokens if t.isalnum() and t not in stop_words]\n",
    "    tokens = [lemmatizer.lemmatize(t) for t in tokens]\n",
    "    return tokens\n",
    "\n",
    "texts = [preprocess(doc) for doc in documents]\n"
   ]
  },
  {
   "cell_type": "code",
   "execution_count": 7,
   "id": "a3cfe2b4-465f-43e3-acbe-7564a18375c8",
   "metadata": {},
   "outputs": [],
   "source": [
    "dictionary = corpora.Dictionary(texts)\n",
    "corpus = [dictionary.doc2bow(text) for text in texts]\n",
    "\n"
   ]
  },
  {
   "cell_type": "code",
   "execution_count": 9,
   "id": "c2c758ac-3258-4bad-b23a-5072d6da24bb",
   "metadata": {},
   "outputs": [],
   "source": [
    "lda_model = models.LdaModel(corpus, num_topics=2, id2word=dictionary, passes=10)\n"
   ]
  },
  {
   "cell_type": "code",
   "execution_count": 25,
   "id": "cf5170fb-c545-467b-b3fe-6f940bde6524",
   "metadata": {},
   "outputs": [],
   "source": [
    "article_labels = []\n",
    "\n",
    "for i, doc in enumerate(preprocessed_documents):\n",
    "    bow = dictionary.doc2bow(doc)\n",
    "    topics = lda_model.get_document_topics(bow)\n",
    "    dominant_topic = max(topics,key=lambda x: x[1])[0]\n",
    "    article_labels.append(dominant_topic)"
   ]
  },
  {
   "cell_type": "code",
   "execution_count": 27,
   "id": "9fd59848-60b4-410d-bc09-5bdde284447e",
   "metadata": {},
   "outputs": [
    {
     "name": "stdout",
     "output_type": "stream",
     "text": [
      "Table with Articles and Topic:\n",
      "                                                 Article  Topic\n",
      "0      In the Washington of 2016, even when the polic...      3\n",
      "1        Donald Trump has used Twitter  —   his prefe...      3\n",
      "2        Donald Trump is unabashedly praising Russian...      3\n",
      "3      Updated at 2:50 p. m. ET, Russian President Vl...      1\n",
      "4      From photography, illustration and video, to d...      0\n",
      "...                                                  ...    ...\n",
      "11987  The number of law enforcement officers shot an...      1\n",
      "11988    Trump is busy these days with victory tours,...      3\n",
      "11989  It’s always interesting for the Goats and Soda...      2\n",
      "11990  The election of Donald Trump was a surprise to...      3\n",
      "11991  Voters in the English city of Sunderland did s...      1\n",
      "\n",
      "[11992 rows x 2 columns]\n",
      "\n"
     ]
    }
   ],
   "source": [
    "df = pd.DataFrame({\"Article\": documents, \"Topic\": article_labels})\n",
    "\n",
    "print(\"Table with Articles and Topic:\")\n",
    "print(df)\n",
    "print()"
   ]
  },
  {
   "cell_type": "code",
   "execution_count": 31,
   "id": "b4959672-1dce-44b5-940d-13faf35075af",
   "metadata": {},
   "outputs": [
    {
     "name": "stdout",
     "output_type": "stream",
     "text": [
      "Top Terms for Each Topic:\n",
      "Topic 0: 0.005*\"know\" + 0.004*\"thing\" + 0.004*\"think\" + 0.004*\"life\" + 0.004*\"really\" + 0.004*\"story\" + 0.003*\"back\" + 0.003*\"show\" + 0.003*\"day\" + 0.003*\"world\"\n",
      "- \"know\" (weight: 0.005)\n",
      "- \"thing\" (weight: 0.004)\n",
      "- \"think\" (weight: 0.004)\n",
      "- \"life\" (weight: 0.004)\n",
      "- \"really\" (weight: 0.004)\n",
      "- \"story\" (weight: 0.004)\n",
      "- \"back\" (weight: 0.003)\n",
      "- \"show\" (weight: 0.003)\n",
      "- \"day\" (weight: 0.003)\n",
      "- \"world\" (weight: 0.003)\n",
      "\n",
      "Topic 1: 0.007*\"police\" + 0.005*\"report\" + 0.005*\"country\" + 0.005*\"government\" + 0.004*\"state\" + 0.004*\"city\" + 0.004*\"told\" + 0.004*\"attack\" + 0.004*\"official\" + 0.003*\"two\"\n",
      "- \"police\" (weight: 0.007)\n",
      "- \"report\" (weight: 0.005)\n",
      "- \"country\" (weight: 0.005)\n",
      "- \"government\" (weight: 0.005)\n",
      "- \"state\" (weight: 0.004)\n",
      "- \"city\" (weight: 0.004)\n",
      "- \"told\" (weight: 0.004)\n",
      "- \"attack\" (weight: 0.004)\n",
      "- \"official\" (weight: 0.004)\n",
      "- \"two\" (weight: 0.003)\n",
      "\n",
      "Topic 2: 0.009*\"school\" + 0.008*\"woman\" + 0.007*\"child\" + 0.007*\"student\" + 0.006*\"study\" + 0.005*\"university\" + 0.004*\"think\" + 0.003*\"parent\" + 0.003*\"disease\" + 0.003*\"research\"\n",
      "- \"school\" (weight: 0.009)\n",
      "- \"woman\" (weight: 0.008)\n",
      "- \"child\" (weight: 0.007)\n",
      "- \"student\" (weight: 0.007)\n",
      "- \"study\" (weight: 0.006)\n",
      "- \"university\" (weight: 0.005)\n",
      "- \"think\" (weight: 0.004)\n",
      "- \"parent\" (weight: 0.003)\n",
      "- \"disease\" (weight: 0.003)\n",
      "- \"research\" (weight: 0.003)\n",
      "\n",
      "Topic 3: 0.029*\"trump\" + 0.011*\"clinton\" + 0.010*\"president\" + 0.009*\"state\" + 0.008*\"republican\" + 0.008*\"campaign\" + 0.006*\"election\" + 0.006*\"obama\" + 0.005*\"vote\" + 0.005*\"voter\"\n",
      "- \"trump\" (weight: 0.029)\n",
      "- \"clinton\" (weight: 0.011)\n",
      "- \"president\" (weight: 0.010)\n",
      "- \"state\" (weight: 0.009)\n",
      "- \"republican\" (weight: 0.008)\n",
      "- \"campaign\" (weight: 0.008)\n",
      "- \"election\" (weight: 0.006)\n",
      "- \"obama\" (weight: 0.006)\n",
      "- \"vote\" (weight: 0.005)\n",
      "- \"voter\" (weight: 0.005)\n",
      "\n",
      "Topic 4: 0.009*\"health\" + 0.008*\"company\" + 0.007*\"state\" + 0.006*\"percent\" + 0.005*\"care\" + 0.005*\"million\" + 0.004*\"plan\" + 0.004*\"drug\" + 0.004*\"000\" + 0.004*\"money\"\n",
      "- \"health\" (weight: 0.009)\n",
      "- \"company\" (weight: 0.008)\n",
      "- \"state\" (weight: 0.007)\n",
      "- \"percent\" (weight: 0.006)\n",
      "- \"care\" (weight: 0.005)\n",
      "- \"million\" (weight: 0.005)\n",
      "- \"plan\" (weight: 0.004)\n",
      "- \"drug\" (weight: 0.004)\n",
      "- \"000\" (weight: 0.004)\n",
      "- \"money\" (weight: 0.004)\n",
      "\n"
     ]
    }
   ],
   "source": [
    "print(\"Top Terms for Each Topic:\")\n",
    "\n",
    "for idx, topic in lda_model.print_topics():\n",
    "    print(f\"Topic {idx}: {topic}\")\n",
    "    terms = [term.strip() for term in topic.split(\"+\")]\n",
    "    for term in terms:\n",
    "        weight, word = term.split(\"*\")\n",
    "        print(f\"- {word.strip()} (weight: {weight.strip()})\")\n",
    "    print()\n"
   ]
  },
  {
   "cell_type": "code",
   "execution_count": null,
   "id": "26df6f1d-2ca4-4a3d-81e3-837832487ff0",
   "metadata": {},
   "outputs": [],
   "source": []
  }
 ],
 "metadata": {
  "kernelspec": {
   "display_name": "Python 3 (ipykernel)",
   "language": "python",
   "name": "python3"
  },
  "language_info": {
   "codemirror_mode": {
    "name": "ipython",
    "version": 3
   },
   "file_extension": ".py",
   "mimetype": "text/x-python",
   "name": "python",
   "nbconvert_exporter": "python",
   "pygments_lexer": "ipython3",
   "version": "3.12.4"
  }
 },
 "nbformat": 4,
 "nbformat_minor": 5
}
